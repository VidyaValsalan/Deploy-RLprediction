{
  "nbformat": 4,
  "nbformat_minor": 0,
  "metadata": {
    "colab": {
      "name": "Copy of Copy of LSTMSample.ipynb",
      "provenance": [],
      "collapsed_sections": [],
      "authorship_tag": "ABX9TyNIIpNDEGUdtZh9riPmi7x/",
      "include_colab_link": true
    },
    "kernelspec": {
      "name": "python3",
      "display_name": "Python 3"
    }
  },
  "cells": [
    {
      "cell_type": "markdown",
      "metadata": {
        "id": "view-in-github",
        "colab_type": "text"
      },
      "source": [
        "<a href=\"https://colab.research.google.com/github/VidyaValsalan/Deploy-RLprediction/blob/master/Vanilla_LSTM.ipynb\" target=\"_parent\"><img src=\"https://colab.research.google.com/assets/colab-badge.svg\" alt=\"Open In Colab\"/></a>"
      ]
    },
    {
      "cell_type": "code",
      "metadata": {
        "id": "73Uw1ar6sU5x"
      },
      "source": [
        "import pandas as pd\n",
        "from google.colab import files"
      ],
      "execution_count": 2,
      "outputs": []
    },
    {
      "cell_type": "code",
      "metadata": {
        "id": "cBVoG3ewsYpK",
        "colab": {
          "resources": {
            "http://localhost:8080/nbextensions/google.colab/files.js": {
              "data": "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",
              "ok": true,
              "headers": [
                [
                  "content-type",
                  "application/javascript"
                ]
              ],
              "status": 200,
              "status_text": ""
            }
          },
          "base_uri": "https://localhost:8080/",
          "height": 72
        },
        "outputId": "f59e1221-50d8-4996-a546-f248819e651e"
      },
      "source": [
        "uploaded = files.upload()"
      ],
      "execution_count": 3,
      "outputs": [
        {
          "output_type": "display_data",
          "data": {
            "text/html": [
              "\n",
              "     <input type=\"file\" id=\"files-3186282c-80c5-4471-96ae-f35a781a50b6\" name=\"files[]\" multiple disabled\n",
              "        style=\"border:none\" />\n",
              "     <output id=\"result-3186282c-80c5-4471-96ae-f35a781a50b6\">\n",
              "      Upload widget is only available when the cell has been executed in the\n",
              "      current browser session. Please rerun this cell to enable.\n",
              "      </output>\n",
              "      <script src=\"/nbextensions/google.colab/files.js\"></script> "
            ],
            "text/plain": [
              "<IPython.core.display.HTML object>"
            ]
          },
          "metadata": {
            "tags": []
          }
        },
        {
          "output_type": "stream",
          "text": [
            "Saving excel_model_15.csv to excel_model_15.csv\n"
          ],
          "name": "stdout"
        }
      ]
    },
    {
      "cell_type": "code",
      "metadata": {
        "id": "R2dAXBrtsaKy",
        "colab": {
          "base_uri": "https://localhost:8080/"
        },
        "outputId": "9a5c8c0c-78ad-49ba-a41e-52859d50d871"
      },
      "source": [
        "for fn in uploaded.keys():\n",
        "  print('User uploaded file \"{name}\" with length {length} bytes'.format(\n",
        "      name=fn, length=len(uploaded[fn])))"
      ],
      "execution_count": 5,
      "outputs": [
        {
          "output_type": "stream",
          "text": [
            "User uploaded file \"excel_model_15.csv\" with length 5019 bytes\n"
          ],
          "name": "stdout"
        }
      ]
    },
    {
      "cell_type": "code",
      "metadata": {
        "id": "RYAGYcKasps5",
        "colab": {
          "base_uri": "https://localhost:8080/"
        },
        "outputId": "f88f5746-0b12-4fc6-fe58-01442d6b209d"
      },
      "source": [
        "import io\n",
        "df1 = pd.read_csv(io.StringIO(uploaded['excel_model_15.csv'].decode('utf-8')),names=['date','4599','4291','5054','2157','4234','1018','22420','18494','19505','10215','11478','13223','16309','370'])\n",
        "df1.head(5)\n",
        "a=input('Enter the Location ID')"
      ],
      "execution_count": 6,
      "outputs": [
        {
          "output_type": "stream",
          "text": [
            "Enter the Location ID4599\n"
          ],
          "name": "stdout"
        }
      ]
    },
    {
      "cell_type": "code",
      "metadata": {
        "id": "mGNMhb75sxOB",
        "colab": {
          "base_uri": "https://localhost:8080/",
          "height": 282
        },
        "outputId": "26411b31-640a-4f3b-d066-9438c52f78ed"
      },
      "source": [
        "import matplotlib.pyplot as plt\n",
        "\n",
        "df1=df1.reset_index()[a]\n",
        "#plt.plot(df1)\n",
        "df1.plot()"
      ],
      "execution_count": 7,
      "outputs": [
        {
          "output_type": "execute_result",
          "data": {
            "text/plain": [
              "<matplotlib.axes._subplots.AxesSubplot at 0x7fd037e2f9e8>"
            ]
          },
          "metadata": {
            "tags": []
          },
          "execution_count": 7
        },
        {
          "output_type": "display_data",
          "data": {
            "image/png": "[encoded data removed]",
            "text/plain": [
              "<Figure size 432x288 with 1 Axes>"
            ]
          },
          "metadata": {
            "tags": [],
            "needs_background": "light"
          }
        }
      ]
    },
    {
      "cell_type": "code",
      "metadata": {
        "id": "4mnqvhOOszPS"
      },
      "source": [
        "import numpy as np\n",
        "from sklearn.preprocessing import MinMaxScaler\n",
        "scaler=MinMaxScaler(feature_range=(0,1))\n",
        "df1=scaler.fit_transform(np.array(df1).reshape(-1,1))"
      ],
      "execution_count": 8,
      "outputs": []
    },
    {
      "cell_type": "code",
      "metadata": {
        "id": "E58E3hfftJOC"
      },
      "source": [
        "training_size=int(len(df1)*0.70)\n",
        "test_size=len(df1)-training_size\n",
        "train_data,test_data=df1[0:training_size,:],df1[training_size:len(df1),:1]"
      ],
      "execution_count": 9,
      "outputs": []
    },
    {
      "cell_type": "code",
      "metadata": {
        "id": "FUJ3iZBktc-Q"
      },
      "source": [
        "import numpy\n",
        "def create_dataset(dataset, time_step=1):\n",
        "\tdataX, dataY = [], []\n",
        "\tfor i in range(len(dataset)-time_step-1):\n",
        "\t\ta = dataset[i:(i+time_step), 0]\n",
        "\t\tdataX.append(a)\n",
        "\t\tdataY.append(dataset[i + time_step, 0])\n",
        "\treturn numpy.array(dataX), numpy.array(dataY)"
      ],
      "execution_count": 10,
      "outputs": []
    },
    {
      "cell_type": "code",
      "metadata": {
        "id": "2Ev2V4gsteR2"
      },
      "source": [
        "time_step = 4\n",
        "X_train, y_train = create_dataset(train_data, time_step)\n",
        "X_test, ytest = create_dataset(test_data, time_step)"
      ],
      "execution_count": 11,
      "outputs": []
    },
    {
      "cell_type": "code",
      "metadata": {
        "id": "z4rkE4Jttj-g"
      },
      "source": [
        "X_train =X_train.reshape(X_train.shape[0],X_train.shape[1] , 1)\n",
        "X_test = X_test.reshape(X_test.shape[0],X_test.shape[1] , 1)"
      ],
      "execution_count": 12,
      "outputs": []
    },
    {
      "cell_type": "code",
      "metadata": {
        "id": "SCqvHQCltuWA"
      },
      "source": [
        "from tensorflow.keras.models import Sequential\n",
        "from tensorflow.keras.layers import Dense\n",
        "from tensorflow.keras.layers import LSTM"
      ],
      "execution_count": 13,
      "outputs": []
    },
    {
      "cell_type": "code",
      "metadata": {
        "id": "30luvM2jxre7"
      },
      "source": [
        ""
      ],
      "execution_count": null,
      "outputs": []
    },
    {
      "cell_type": "code",
      "metadata": {
        "id": "JwoLaD7ztzWQ"
      },
      "source": [
        "model=Sequential()\n",
        "model.add(LSTM(50,input_shape=(4,1)))\n",
        "#model.add(LSTM(50,return_sequences=True))\n",
        "#model.add(LSTM(50))\n",
        "model.add(Dense(1))\n",
        "model.compile(loss='mean_squared_error',optimizer='adam')\n"
      ],
      "execution_count": 35,
      "outputs": []
    },
    {
      "cell_type": "code",
      "metadata": {
        "id": "p5OrNoLQt6Q0",
        "colab": {
          "base_uri": "https://localhost:8080/"
        },
        "outputId": "9c2785f2-69ed-447c-b01d-2f492fdd2c8c"
      },
      "source": [
        "model.summary()"
      ],
      "execution_count": 36,
      "outputs": [
        {
          "output_type": "stream",
          "text": [
            "Model: \"sequential_4\"\n",
            "_________________________________________________________________\n",
            "Layer (type)                 Output Shape              Param #   \n",
            "=================================================================\n",
            "lstm_8 (LSTM)                (None, 50)                10400     \n",
            "_________________________________________________________________\n",
            "dense_4 (Dense)              (None, 1)                 51        \n",
            "=================================================================\n",
            "Total params: 10,451\n",
            "Trainable params: 10,451\n",
            "Non-trainable params: 0\n",
            "_________________________________________________________________\n"
          ],
          "name": "stdout"
        }
      ]
    },
    {
      "cell_type": "code",
      "metadata": {
        "id": "NeRFZrOLmNFO"
      },
      "source": [
        ""
      ],
      "execution_count": null,
      "outputs": []
    },
    {
      "cell_type": "code",
      "metadata": {
        "id": "1FEJc5E-uDo5",
        "colab": {
          "base_uri": "https://localhost:8080/"
        },
        "outputId": "76681732-0c15-4543-b3ef-4e5533a4041d"
      },
      "source": [
        "history=model.fit(X_train,y_train,validation_data=(X_test,ytest),epochs=100,batch_size=64,verbose=1)"
      ],
      "execution_count": 37,
      "outputs": [
        {
          "output_type": "stream",
          "text": [
            "Epoch 1/100\n",
            "1/1 [==============================] - 2s 2s/step - loss: 0.4433 - val_loss: 0.0112\n",
            "Epoch 2/100\n",
            "1/1 [==============================] - 0s 35ms/step - loss: 0.4195 - val_loss: 0.0098\n",
            "Epoch 3/100\n",
            "1/1 [==============================] - 0s 34ms/step - loss: 0.3966 - val_loss: 0.0084\n",
            "Epoch 4/100\n",
            "1/1 [==============================] - 0s 33ms/step - loss: 0.3745 - val_loss: 0.0073\n",
            "Epoch 5/100\n",
            "1/1 [==============================] - 0s 35ms/step - loss: 0.3533 - val_loss: 0.0062\n",
            "Epoch 6/100\n",
            "1/1 [==============================] - 0s 33ms/step - loss: 0.3329 - val_loss: 0.0054\n",
            "Epoch 7/100\n",
            "1/1 [==============================] - 0s 36ms/step - loss: 0.3132 - val_loss: 0.0046\n",
            "Epoch 8/100\n",
            "1/1 [==============================] - 0s 40ms/step - loss: 0.2943 - val_loss: 0.0040\n",
            "Epoch 9/100\n",
            "1/1 [==============================] - 0s 40ms/step - loss: 0.2760 - val_loss: 0.0035\n",
            "Epoch 10/100\n",
            "1/1 [==============================] - 0s 38ms/step - loss: 0.2584 - val_loss: 0.0032\n",
            "Epoch 11/100\n",
            "1/1 [==============================] - 0s 35ms/step - loss: 0.2414 - val_loss: 0.0030\n",
            "Epoch 12/100\n",
            "1/1 [==============================] - 0s 36ms/step - loss: 0.2250 - val_loss: 0.0029\n",
            "Epoch 13/100\n",
            "1/1 [==============================] - 0s 36ms/step - loss: 0.2091 - val_loss: 0.0029\n",
            "Epoch 14/100\n",
            "1/1 [==============================] - 0s 39ms/step - loss: 0.1938 - val_loss: 0.0031\n",
            "Epoch 15/100\n",
            "1/1 [==============================] - 0s 36ms/step - loss: 0.1790 - val_loss: 0.0034\n",
            "Epoch 16/100\n",
            "1/1 [==============================] - 0s 39ms/step - loss: 0.1647 - val_loss: 0.0039\n",
            "Epoch 17/100\n",
            "1/1 [==============================] - 0s 37ms/step - loss: 0.1509 - val_loss: 0.0045\n",
            "Epoch 18/100\n",
            "1/1 [==============================] - 0s 39ms/step - loss: 0.1376 - val_loss: 0.0053\n",
            "Epoch 19/100\n",
            "1/1 [==============================] - 0s 40ms/step - loss: 0.1248 - val_loss: 0.0062\n",
            "Epoch 20/100\n",
            "1/1 [==============================] - 0s 40ms/step - loss: 0.1125 - val_loss: 0.0073\n",
            "Epoch 21/100\n",
            "1/1 [==============================] - 0s 41ms/step - loss: 0.1008 - val_loss: 0.0086\n",
            "Epoch 22/100\n",
            "1/1 [==============================] - 0s 41ms/step - loss: 0.0896 - val_loss: 0.0100\n",
            "Epoch 23/100\n",
            "1/1 [==============================] - 0s 41ms/step - loss: 0.0790 - val_loss: 0.0116\n",
            "Epoch 24/100\n",
            "1/1 [==============================] - 0s 36ms/step - loss: 0.0689 - val_loss: 0.0135\n",
            "Epoch 25/100\n",
            "1/1 [==============================] - 0s 38ms/step - loss: 0.0595 - val_loss: 0.0155\n",
            "Epoch 26/100\n",
            "1/1 [==============================] - 0s 36ms/step - loss: 0.0508 - val_loss: 0.0177\n",
            "Epoch 27/100\n",
            "1/1 [==============================] - 0s 40ms/step - loss: 0.0427 - val_loss: 0.0201\n",
            "Epoch 28/100\n",
            "1/1 [==============================] - 0s 36ms/step - loss: 0.0354 - val_loss: 0.0227\n",
            "Epoch 29/100\n",
            "1/1 [==============================] - 0s 173ms/step - loss: 0.0289 - val_loss: 0.0255\n",
            "Epoch 30/100\n",
            "1/1 [==============================] - 0s 42ms/step - loss: 0.0231 - val_loss: 0.0285\n",
            "Epoch 31/100\n",
            "1/1 [==============================] - 0s 33ms/step - loss: 0.0182 - val_loss: 0.0317\n",
            "Epoch 32/100\n",
            "1/1 [==============================] - 0s 36ms/step - loss: 0.0141 - val_loss: 0.0349\n",
            "Epoch 33/100\n",
            "1/1 [==============================] - 0s 51ms/step - loss: 0.0108 - val_loss: 0.0383\n",
            "Epoch 34/100\n",
            "1/1 [==============================] - 0s 37ms/step - loss: 0.0084 - val_loss: 0.0417\n",
            "Epoch 35/100\n",
            "1/1 [==============================] - 0s 33ms/step - loss: 0.0068 - val_loss: 0.0451\n",
            "Epoch 36/100\n",
            "1/1 [==============================] - 0s 35ms/step - loss: 0.0060 - val_loss: 0.0484\n",
            "Epoch 37/100\n",
            "1/1 [==============================] - 0s 34ms/step - loss: 0.0058 - val_loss: 0.0516\n",
            "Epoch 38/100\n",
            "1/1 [==============================] - 0s 35ms/step - loss: 0.0061 - val_loss: 0.0545\n",
            "Epoch 39/100\n",
            "1/1 [==============================] - 0s 35ms/step - loss: 0.0068 - val_loss: 0.0571\n",
            "Epoch 40/100\n",
            "1/1 [==============================] - 0s 35ms/step - loss: 0.0078 - val_loss: 0.0593\n",
            "Epoch 41/100\n",
            "1/1 [==============================] - 0s 37ms/step - loss: 0.0089 - val_loss: 0.0611\n",
            "Epoch 42/100\n",
            "1/1 [==============================] - 0s 35ms/step - loss: 0.0100 - val_loss: 0.0624\n",
            "Epoch 43/100\n",
            "1/1 [==============================] - 0s 35ms/step - loss: 0.0108 - val_loss: 0.0632\n",
            "Epoch 44/100\n",
            "1/1 [==============================] - 0s 34ms/step - loss: 0.0115 - val_loss: 0.0635\n",
            "Epoch 45/100\n",
            "1/1 [==============================] - 0s 33ms/step - loss: 0.0118 - val_loss: 0.0633\n",
            "Epoch 46/100\n",
            "1/1 [==============================] - 0s 33ms/step - loss: 0.0118 - val_loss: 0.0627\n",
            "Epoch 47/100\n",
            "1/1 [==============================] - 0s 33ms/step - loss: 0.0115 - val_loss: 0.0618\n",
            "Epoch 48/100\n",
            "1/1 [==============================] - 0s 33ms/step - loss: 0.0110 - val_loss: 0.0605\n",
            "Epoch 49/100\n",
            "1/1 [==============================] - 0s 34ms/step - loss: 0.0103 - val_loss: 0.0591\n",
            "Epoch 50/100\n",
            "1/1 [==============================] - 0s 34ms/step - loss: 0.0096 - val_loss: 0.0574\n",
            "Epoch 51/100\n",
            "1/1 [==============================] - 0s 36ms/step - loss: 0.0088 - val_loss: 0.0557\n",
            "Epoch 52/100\n",
            "1/1 [==============================] - 0s 34ms/step - loss: 0.0080 - val_loss: 0.0540\n",
            "Epoch 53/100\n",
            "1/1 [==============================] - 0s 35ms/step - loss: 0.0073 - val_loss: 0.0522\n",
            "Epoch 54/100\n",
            "1/1 [==============================] - 0s 34ms/step - loss: 0.0067 - val_loss: 0.0505\n",
            "Epoch 55/100\n",
            "1/1 [==============================] - 0s 38ms/step - loss: 0.0063 - val_loss: 0.0488\n",
            "Epoch 56/100\n",
            "1/1 [==============================] - 0s 45ms/step - loss: 0.0059 - val_loss: 0.0473\n",
            "Epoch 57/100\n",
            "1/1 [==============================] - 0s 43ms/step - loss: 0.0056 - val_loss: 0.0459\n",
            "Epoch 58/100\n",
            "1/1 [==============================] - 0s 34ms/step - loss: 0.0055 - val_loss: 0.0445\n",
            "Epoch 59/100\n",
            "1/1 [==============================] - 0s 33ms/step - loss: 0.0054 - val_loss: 0.0433\n",
            "Epoch 60/100\n",
            "1/1 [==============================] - 0s 33ms/step - loss: 0.0054 - val_loss: 0.0423\n",
            "Epoch 61/100\n",
            "1/1 [==============================] - 0s 33ms/step - loss: 0.0054 - val_loss: 0.0413\n",
            "Epoch 62/100\n",
            "1/1 [==============================] - 0s 33ms/step - loss: 0.0055 - val_loss: 0.0405\n",
            "Epoch 63/100\n",
            "1/1 [==============================] - 0s 32ms/step - loss: 0.0056 - val_loss: 0.0398\n",
            "Epoch 64/100\n",
            "1/1 [==============================] - 0s 34ms/step - loss: 0.0056 - val_loss: 0.0393\n",
            "Epoch 65/100\n",
            "1/1 [==============================] - 0s 34ms/step - loss: 0.0057 - val_loss: 0.0388\n",
            "Epoch 66/100\n",
            "1/1 [==============================] - 0s 34ms/step - loss: 0.0057 - val_loss: 0.0385\n",
            "Epoch 67/100\n",
            "1/1 [==============================] - 0s 34ms/step - loss: 0.0058 - val_loss: 0.0382\n",
            "Epoch 68/100\n",
            "1/1 [==============================] - 0s 36ms/step - loss: 0.0058 - val_loss: 0.0380\n",
            "Epoch 69/100\n",
            "1/1 [==============================] - 0s 33ms/step - loss: 0.0058 - val_loss: 0.0379\n",
            "Epoch 70/100\n",
            "1/1 [==============================] - 0s 33ms/step - loss: 0.0057 - val_loss: 0.0379\n",
            "Epoch 71/100\n",
            "1/1 [==============================] - 0s 34ms/step - loss: 0.0057 - val_loss: 0.0379\n",
            "Epoch 72/100\n",
            "1/1 [==============================] - 0s 40ms/step - loss: 0.0056 - val_loss: 0.0380\n",
            "Epoch 73/100\n",
            "1/1 [==============================] - 0s 39ms/step - loss: 0.0055 - val_loss: 0.0381\n",
            "Epoch 74/100\n",
            "1/1 [==============================] - 0s 35ms/step - loss: 0.0054 - val_loss: 0.0383\n",
            "Epoch 75/100\n",
            "1/1 [==============================] - 0s 33ms/step - loss: 0.0053 - val_loss: 0.0385\n",
            "Epoch 76/100\n",
            "1/1 [==============================] - 0s 34ms/step - loss: 0.0052 - val_loss: 0.0387\n",
            "Epoch 77/100\n",
            "1/1 [==============================] - 0s 33ms/step - loss: 0.0052 - val_loss: 0.0389\n",
            "Epoch 78/100\n",
            "1/1 [==============================] - 0s 34ms/step - loss: 0.0051 - val_loss: 0.0391\n",
            "Epoch 79/100\n",
            "1/1 [==============================] - 0s 35ms/step - loss: 0.0050 - val_loss: 0.0393\n",
            "Epoch 80/100\n",
            "1/1 [==============================] - 0s 36ms/step - loss: 0.0050 - val_loss: 0.0395\n",
            "Epoch 81/100\n",
            "1/1 [==============================] - 0s 34ms/step - loss: 0.0049 - val_loss: 0.0397\n",
            "Epoch 82/100\n",
            "1/1 [==============================] - 0s 33ms/step - loss: 0.0049 - val_loss: 0.0398\n",
            "Epoch 83/100\n",
            "1/1 [==============================] - 0s 36ms/step - loss: 0.0049 - val_loss: 0.0399\n",
            "Epoch 84/100\n",
            "1/1 [==============================] - 0s 36ms/step - loss: 0.0049 - val_loss: 0.0400\n",
            "Epoch 85/100\n",
            "1/1 [==============================] - 0s 40ms/step - loss: 0.0048 - val_loss: 0.0400\n",
            "Epoch 86/100\n",
            "1/1 [==============================] - 0s 38ms/step - loss: 0.0048 - val_loss: 0.0399\n",
            "Epoch 87/100\n",
            "1/1 [==============================] - 0s 41ms/step - loss: 0.0048 - val_loss: 0.0399\n",
            "Epoch 88/100\n",
            "1/1 [==============================] - 0s 39ms/step - loss: 0.0048 - val_loss: 0.0398\n",
            "Epoch 89/100\n",
            "1/1 [==============================] - 0s 37ms/step - loss: 0.0048 - val_loss: 0.0396\n",
            "Epoch 90/100\n",
            "1/1 [==============================] - 0s 33ms/step - loss: 0.0048 - val_loss: 0.0394\n",
            "Epoch 91/100\n",
            "1/1 [==============================] - 0s 37ms/step - loss: 0.0048 - val_loss: 0.0392\n",
            "Epoch 92/100\n",
            "1/1 [==============================] - 0s 36ms/step - loss: 0.0047 - val_loss: 0.0390\n",
            "Epoch 93/100\n",
            "1/1 [==============================] - 0s 35ms/step - loss: 0.0047 - val_loss: 0.0387\n",
            "Epoch 94/100\n",
            "1/1 [==============================] - 0s 35ms/step - loss: 0.0047 - val_loss: 0.0384\n",
            "Epoch 95/100\n",
            "1/1 [==============================] - 0s 35ms/step - loss: 0.0046 - val_loss: 0.0381\n",
            "Epoch 96/100\n",
            "1/1 [==============================] - 0s 34ms/step - loss: 0.0046 - val_loss: 0.0377\n",
            "Epoch 97/100\n",
            "1/1 [==============================] - 0s 34ms/step - loss: 0.0046 - val_loss: 0.0374\n",
            "Epoch 98/100\n",
            "1/1 [==============================] - 0s 39ms/step - loss: 0.0046 - val_loss: 0.0371\n",
            "Epoch 99/100\n",
            "1/1 [==============================] - 0s 35ms/step - loss: 0.0045 - val_loss: 0.0367\n",
            "Epoch 100/100\n",
            "1/1 [==============================] - 0s 34ms/step - loss: 0.0045 - val_loss: 0.0364\n"
          ],
          "name": "stdout"
        }
      ]
    },
    {
      "cell_type": "code",
      "metadata": {
        "id": "E1qPL_qgXCNw",
        "colab": {
          "base_uri": "https://localhost:8080/"
        },
        "outputId": "cf3f8708-5155-4a0f-c106-f362e577e242"
      },
      "source": [
        "history.history.keys()"
      ],
      "execution_count": 38,
      "outputs": [
        {
          "output_type": "execute_result",
          "data": {
            "text/plain": [
              "dict_keys(['loss', 'val_loss'])"
            ]
          },
          "metadata": {
            "tags": []
          },
          "execution_count": 38
        }
      ]
    },
    {
      "cell_type": "code",
      "metadata": {
        "id": "885y74vIXX_w"
      },
      "source": [
        ""
      ],
      "execution_count": null,
      "outputs": []
    },
    {
      "cell_type": "code",
      "metadata": {
        "id": "bnpyodiHuSPw"
      },
      "source": [
        "import tensorflow as tf\n",
        "train_predict=model.predict(X_train)\n",
        "test_predict=model.predict(X_test)"
      ],
      "execution_count": 39,
      "outputs": []
    },
    {
      "cell_type": "code",
      "metadata": {
        "id": "-LEo6hgelkWI",
        "colab": {
          "base_uri": "https://localhost:8080/"
        },
        "outputId": "15d4a1d1-4550-4941-8761-a170a61af177"
      },
      "source": [
        "import math\n",
        "from sklearn.metrics import mean_squared_error\n",
        "mse=math.sqrt(mean_squared_error(y_train,train_predict))\n",
        "print(mse)\n",
        "accuracy_percent = 1 - np.sqrt(mse)\n",
        "accuracy_percent"
      ],
      "execution_count": 40,
      "outputs": [
        {
          "output_type": "stream",
          "text": [
            "0.06684351694087973\n"
          ],
          "name": "stdout"
        },
        {
          "output_type": "execute_result",
          "data": {
            "text/plain": [
              "0.7414588679902563"
            ]
          },
          "metadata": {
            "tags": []
          },
          "execution_count": 40
        }
      ]
    },
    {
      "cell_type": "code",
      "metadata": {
        "id": "wL2aWVi5lnP_",
        "colab": {
          "base_uri": "https://localhost:8080/"
        },
        "outputId": "8df447fa-2aff-4c42-dd84-4c3f42bd099e"
      },
      "source": [
        "mse1=math.sqrt(mean_squared_error(ytest,test_predict))\n",
        "accuracy_percent = 1 - np.sqrt(mse1)\n",
        "accuracy_percent"
      ],
      "execution_count": 41,
      "outputs": [
        {
          "output_type": "execute_result",
          "data": {
            "text/plain": [
              "0.5632496871943824"
            ]
          },
          "metadata": {
            "tags": []
          },
          "execution_count": 41
        }
      ]
    },
    {
      "cell_type": "code",
      "metadata": {
        "id": "e65sCWLWuhoM"
      },
      "source": [
        "train_predict=scaler.inverse_transform(train_predict)\n",
        "test_predict=scaler.inverse_transform(test_predict)"
      ],
      "execution_count": 42,
      "outputs": []
    },
    {
      "cell_type": "code",
      "metadata": {
        "id": "YER68jKLwNlL",
        "colab": {
          "base_uri": "https://localhost:8080/",
          "height": 295
        },
        "outputId": "546ddcb4-7582-4ac5-a03d-3aceb2374687"
      },
      "source": [
        "import matplotlib.pyplot as plt\n",
        "look_back=4\n",
        "trainPredictPlot = numpy.empty_like(df1)\n",
        "trainPredictPlot[:, :] = np.nan\n",
        "trainPredictPlot[look_back:len(train_predict)+look_back, :] = train_predict\n",
        "testPredictPlot = numpy.empty_like(df1)\n",
        "testPredictPlot[:, :] = numpy.nan\n",
        "testPredictPlot[len(train_predict)+(look_back*2)+1:len(df1)-1, :] = test_predict\n",
        "plt.plot(scaler.inverse_transform(df1),label='Actual RL value')\n",
        "plt.plot(trainPredictPlot,label='Predicted Train RL value')\n",
        "plt.plot(testPredictPlot,label='Predicted Test RL value')\n",
        "plt.xlabel('Date')\n",
        "plt.ylabel('Reduced Level')\n",
        "plt.title('Actual and Predicted Comparison')\n",
        "plt.legend()\n",
        "plt.show()\n"
      ],
      "execution_count": 43,
      "outputs": [
        {
          "output_type": "display_data",
          "data": {
            "image/png": "[encoded data removed]",
            "text/plain": [
              "<Figure size 432x288 with 1 Axes>"
            ]
          },
          "metadata": {
            "tags": [],
            "needs_background": "light"
          }
        }
      ]
    },
    {
      "cell_type": "code",
      "metadata": {
        "id": "fRPRbZQx_hdk",
        "colab": {
          "base_uri": "https://localhost:8080/"
        },
        "outputId": "d1af75ff-af41-4222-8219-938178780a46"
      },
      "source": [
        "len(test_data)"
      ],
      "execution_count": null,
      "outputs": [
        {
          "output_type": "execute_result",
          "data": {
            "text/plain": [
              "21"
            ]
          },
          "metadata": {
            "tags": []
          },
          "execution_count": 105
        }
      ]
    },
    {
      "cell_type": "code",
      "metadata": {
        "id": "43tdymds_ZY1",
        "colab": {
          "base_uri": "https://localhost:8080/"
        },
        "outputId": "38dfbb30-12ca-4479-9a3f-e7c83ef1f5ba"
      },
      "source": [
        "x_input=test_data[17:].reshape(1,-1)\n",
        "x_input.shape"
      ],
      "execution_count": null,
      "outputs": [
        {
          "output_type": "execute_result",
          "data": {
            "text/plain": [
              "(1, 4)"
            ]
          },
          "metadata": {
            "tags": []
          },
          "execution_count": 106
        }
      ]
    },
    {
      "cell_type": "code",
      "metadata": {
        "id": "k0McKdGg_xom"
      },
      "source": [
        "temp_input=list(x_input)\n",
        "temp_input=temp_input[0].tolist()"
      ],
      "execution_count": null,
      "outputs": []
    },
    {
      "cell_type": "code",
      "metadata": {
        "id": "JoY14L_C_Xd7",
        "colab": {
          "base_uri": "https://localhost:8080/"
        },
        "outputId": "20c07abb-e57e-400b-f5bd-0370c81f437d"
      },
      "source": [
        "#prediction for next n days\n",
        "from numpy import array\n",
        "\n",
        "lst_output=[]\n",
        "n_steps=4\n",
        "i=0\n",
        "while(i<60):\n",
        "    \n",
        "    if(len(temp_input)>4):\n",
        "        x_input=np.array(temp_input[1:])\n",
        "        print(\"{} day input {}\".format(i,x_input))\n",
        "        x_input=x_input.reshape(1,-1)\n",
        "        x_input = x_input.reshape((1, n_steps, 1))\n",
        "        yhat = model.predict(x_input, verbose=0)\n",
        "        print(\"{} day output {}\".format(i,yhat))\n",
        "        temp_input.extend(yhat[0].tolist())\n",
        "        temp_input=temp_input[1:]\n",
        "        lst_output.extend(yhat.tolist())\n",
        "        i=i+1\n",
        "    else:\n",
        "        x_input = x_input.reshape((1, n_steps,1))\n",
        "        yhat = model.predict(x_input, verbose=0)\n",
        "        print(yhat[0])\n",
        "        temp_input.extend(yhat[0].tolist())\n",
        "        print(len(temp_input))\n",
        "        lst_output.extend(yhat.tolist())\n",
        "        i=i+1\n",
        "    \n",
        "\n",
        "print(lst_output)\n"
      ],
      "execution_count": null,
      "outputs": [
        {
          "output_type": "stream",
          "text": [
            "[-0.00566151]\n",
            "5\n",
            "1 day input [ 0.00369914  0.00123305  0.         -0.00566151]\n",
            "1 day output [[-0.00862659]]\n",
            "2 day input [ 0.00123305  0.         -0.00566151 -0.00862659]\n",
            "2 day output [[-0.010905]]\n",
            "3 day input [ 0.         -0.00566151 -0.00862659 -0.010905  ]\n",
            "3 day output [[-0.01344527]]\n",
            "4 day input [-0.00566151 -0.00862659 -0.010905   -0.01344527]\n",
            "4 day output [[-0.01677062]]\n",
            "5 day input [-0.00862659 -0.010905   -0.01344527 -0.01677062]\n",
            "5 day output [[-0.01902895]]\n",
            "6 day input [-0.010905   -0.01344527 -0.01677062 -0.01902895]\n",
            "6 day output [[-0.02116626]]\n",
            "7 day input [-0.01344527 -0.01677062 -0.01902895 -0.02116626]\n",
            "7 day output [[-0.02342876]]\n",
            "8 day input [-0.01677062 -0.01902895 -0.02116626 -0.02342876]\n",
            "8 day output [[-0.02567805]]\n",
            "9 day input [-0.01902895 -0.02116626 -0.02342876 -0.02567805]\n",
            "9 day output [[-0.02752985]]\n",
            "10 day input [-0.02116626 -0.02342876 -0.02567805 -0.02752985]\n",
            "10 day output [[-0.02934409]]\n",
            "11 day input [-0.02342876 -0.02567805 -0.02752985 -0.02934409]\n",
            "11 day output [[-0.0311343]]\n",
            "12 day input [-0.02567805 -0.02752985 -0.02934409 -0.0311343 ]\n",
            "12 day output [[-0.0328069]]\n",
            "13 day input [-0.02752985 -0.02934409 -0.0311343  -0.0328069 ]\n",
            "13 day output [[-0.03431585]]\n",
            "14 day input [-0.02934409 -0.0311343  -0.0328069  -0.03431585]\n",
            "14 day output [[-0.0357763]]\n",
            "15 day input [-0.0311343  -0.0328069  -0.03431585 -0.0357763 ]\n",
            "15 day output [[-0.03716836]]\n",
            "16 day input [-0.0328069  -0.03431585 -0.0357763  -0.03716836]\n",
            "16 day output [[-0.03846339]]\n",
            "17 day input [-0.03431585 -0.0357763  -0.03716836 -0.03846339]\n",
            "17 day output [[-0.03967051]]\n",
            "18 day input [-0.0357763  -0.03716836 -0.03846339 -0.03967051]\n",
            "18 day output [[-0.04082181]]\n",
            "19 day input [-0.03716836 -0.03846339 -0.03967051 -0.04082181]\n",
            "19 day output [[-0.04190609]]\n",
            "20 day input [-0.03846339 -0.03967051 -0.04082181 -0.04190609]\n",
            "20 day output [[-0.04291996]]\n",
            "21 day input [-0.03967051 -0.04082181 -0.04190609 -0.04291996]\n",
            "21 day output [[-0.04387319]]\n",
            "22 day input [-0.04082181 -0.04190609 -0.04291996 -0.04387319]\n",
            "22 day output [[-0.04477443]]\n",
            "23 day input [-0.04190609 -0.04291996 -0.04387319 -0.04477443]\n",
            "23 day output [[-0.04562085]]\n",
            "24 day input [-0.04291996 -0.04387319 -0.04477443 -0.04562085]\n",
            "24 day output [[-0.04641504]]\n",
            "25 day input [-0.04387319 -0.04477443 -0.04562085 -0.04641504]\n",
            "25 day output [[-0.04716248]]\n",
            "26 day input [-0.04477443 -0.04562085 -0.04641504 -0.04716248]\n",
            "26 day output [[-0.0478663]]\n",
            "27 day input [-0.04562085 -0.04641504 -0.04716248 -0.0478663 ]\n",
            "27 day output [[-0.0485272]]\n",
            "28 day input [-0.04641504 -0.04716248 -0.0478663  -0.0485272 ]\n",
            "28 day output [[-0.0491481]]\n",
            "29 day input [-0.04716248 -0.0478663  -0.0485272  -0.0491481 ]\n",
            "29 day output [[-0.04973207]]\n",
            "30 day input [-0.0478663  -0.0485272  -0.0491481  -0.04973207]\n",
            "30 day output [[-0.05028106]]\n",
            "31 day input [-0.0485272  -0.0491481  -0.04973207 -0.05028106]\n",
            "31 day output [[-0.05079668]]\n",
            "32 day input [-0.0491481  -0.04973207 -0.05028106 -0.05079668]\n",
            "32 day output [[-0.05128118]]\n",
            "33 day input [-0.04973207 -0.05028106 -0.05079668 -0.05128118]\n",
            "33 day output [[-0.05173657]]\n",
            "34 day input [-0.05028106 -0.05079668 -0.05128118 -0.05173657]\n",
            "34 day output [[-0.05216436]]\n",
            "35 day input [-0.05079668 -0.05128118 -0.05173657 -0.05216436]\n",
            "35 day output [[-0.05256624]]\n",
            "36 day input [-0.05128118 -0.05173657 -0.05216436 -0.05256624]\n",
            "36 day output [[-0.05294373]]\n",
            "37 day input [-0.05173657 -0.05216436 -0.05256624 -0.05294373]\n",
            "37 day output [[-0.05329837]]\n",
            "38 day input [-0.05216436 -0.05256624 -0.05294373 -0.05329837]\n",
            "38 day output [[-0.0536315]]\n",
            "39 day input [-0.05256624 -0.05294373 -0.05329837 -0.0536315 ]\n",
            "39 day output [[-0.05394435]]\n",
            "40 day input [-0.05294373 -0.05329837 -0.0536315  -0.05394435]\n",
            "40 day output [[-0.05423819]]\n",
            "41 day input [-0.05329837 -0.0536315  -0.05394435 -0.05423819]\n",
            "41 day output [[-0.05451417]]\n",
            "42 day input [-0.0536315  -0.05394435 -0.05423819 -0.05451417]\n",
            "42 day output [[-0.05477334]]\n",
            "43 day input [-0.05394435 -0.05423819 -0.05451417 -0.05477334]\n",
            "43 day output [[-0.05501672]]\n",
            "44 day input [-0.05423819 -0.05451417 -0.05477334 -0.05501672]\n",
            "44 day output [[-0.05524526]]\n",
            "45 day input [-0.05451417 -0.05477334 -0.05501672 -0.05524526]\n",
            "45 day output [[-0.05545988]]\n",
            "46 day input [-0.05477334 -0.05501672 -0.05524526 -0.05545988]\n",
            "46 day output [[-0.05566138]]\n",
            "47 day input [-0.05501672 -0.05524526 -0.05545988 -0.05566138]\n",
            "47 day output [[-0.05585061]]\n",
            "48 day input [-0.05524526 -0.05545988 -0.05566138 -0.05585061]\n",
            "48 day output [[-0.05602827]]\n",
            "49 day input [-0.05545988 -0.05566138 -0.05585061 -0.05602827]\n",
            "49 day output [[-0.05619505]]\n",
            "50 day input [-0.05566138 -0.05585061 -0.05602827 -0.05619505]\n",
            "50 day output [[-0.05635166]]\n",
            "51 day input [-0.05585061 -0.05602827 -0.05619505 -0.05635166]\n",
            "51 day output [[-0.0564987]]\n",
            "52 day input [-0.05602827 -0.05619505 -0.05635166 -0.0564987 ]\n",
            "52 day output [[-0.05663673]]\n",
            "53 day input [-0.05619505 -0.05635166 -0.0564987  -0.05663673]\n",
            "53 day output [[-0.0567663]]\n",
            "54 day input [-0.05635166 -0.0564987  -0.05663673 -0.0567663 ]\n",
            "54 day output [[-0.05688795]]\n",
            "55 day input [-0.0564987  -0.05663673 -0.0567663  -0.05688795]\n",
            "55 day output [[-0.05700217]]\n",
            "56 day input [-0.05663673 -0.0567663  -0.05688795 -0.05700217]\n",
            "56 day output [[-0.05710937]]\n",
            "57 day input [-0.0567663  -0.05688795 -0.05700217 -0.05710937]\n",
            "57 day output [[-0.05721004]]\n",
            "58 day input [-0.05688795 -0.05700217 -0.05710937 -0.05721004]\n",
            "58 day output [[-0.05730451]]\n",
            "59 day input [-0.05700217 -0.05710937 -0.05721004 -0.05730451]\n",
            "59 day output [[-0.0573932]]\n",
            "[[-0.005661514587700367], [-0.008626586757600307], [-0.010904998518526554], [-0.013445266522467136], [-0.0167706198990345], [-0.01902894675731659], [-0.021166261285543442], [-0.02342876046895981], [-0.02567804604768753], [-0.027529850602149963], [-0.029344085603952408], [-0.03113430365920067], [-0.03280689939856529], [-0.03431585431098938], [-0.035776298493146896], [-0.037168361246585846], [-0.03846339136362076], [-0.039670512080192566], [-0.04082180932164192], [-0.04190609231591225], [-0.042919959872961044], [-0.043873194605112076], [-0.04477442800998688], [-0.04562084749341011], [-0.04641503840684891], [-0.047162484377622604], [-0.04786629602313042], [-0.048527199774980545], [-0.04914810135960579], [-0.04973207041621208], [-0.05028105899691582], [-0.05079668387770653], [-0.05128118023276329], [-0.05173656716942787], [-0.052164364606142044], [-0.05256624147295952], [-0.052943725138902664], [-0.05329837277531624], [-0.0536314956843853], [-0.05394434556365013], [-0.05423818901181221], [-0.054514165967702866], [-0.05477334186434746], [-0.05501672253012657], [-0.05524526163935661], [-0.055459875613451004], [-0.05566137656569481], [-0.05585060641169548], [-0.05602826550602913], [-0.056195054203271866], [-0.05635165795683861], [-0.0564986951649189], [-0.05663673207163811], [-0.05676629766821861], [-0.056887950748205185], [-0.05700216814875603], [-0.057109374552965164], [-0.0572100393474102], [-0.057304512709379196], [-0.05739320442080498]]\n"
          ],
          "name": "stdout"
        }
      ]
    },
    {
      "cell_type": "code",
      "metadata": {
        "id": "O2nizC-2wwLS"
      },
      "source": [
        "day_new=np.arange(1,5)\n",
        "day_pred=np.arange(5,65)"
      ],
      "execution_count": null,
      "outputs": []
    },
    {
      "cell_type": "code",
      "metadata": {
        "id": "t3Y28CVW1t9W",
        "colab": {
          "base_uri": "https://localhost:8080/"
        },
        "outputId": "f7687792-66a0-4e79-bf35-2dd9456d901b"
      },
      "source": [
        "import matplotlib.pyplot as plt\n",
        "len(df1)"
      ],
      "execution_count": null,
      "outputs": [
        {
          "output_type": "execute_result",
          "data": {
            "text/plain": [
              "67"
            ]
          },
          "metadata": {
            "tags": []
          },
          "execution_count": 110
        }
      ]
    },
    {
      "cell_type": "code",
      "metadata": {
        "id": "J_PKPe7-dZMp",
        "colab": {
          "base_uri": "https://localhost:8080/",
          "height": 282
        },
        "outputId": "1b8916c9-4de4-423d-b514-fe75f3789811"
      },
      "source": [
        "df3=[]\n",
        "df3.extend(lst_output)\n",
        "df3=scaler.inverse_transform(df3).tolist()\n",
        "plt.plot(df3)"
      ],
      "execution_count": null,
      "outputs": [
        {
          "output_type": "execute_result",
          "data": {
            "text/plain": [
              "[<matplotlib.lines.Line2D at 0x7f74625cea58>]"
            ]
          },
          "metadata": {
            "tags": []
          },
          "execution_count": 111
        },
        {
          "output_type": "display_data",
          "data": {
            "image/png": "[encoded data removed]",
            "text/plain": [
              "<Figure size 432x288 with 1 Axes>"
            ]
          },
          "metadata": {
            "tags": [],
            "needs_background": "light"
          }
        }
      ]
    },
    {
      "cell_type": "code",
      "metadata": {
        "id": "zpyYVh3TKPJ6"
      },
      "source": [
        ""
      ],
      "execution_count": null,
      "outputs": []
    },
    {
      "cell_type": "code",
      "metadata": {
        "id": "MR8pp1i6KL9a",
        "colab": {
          "base_uri": "https://localhost:8080/",
          "height": 1000
        },
        "outputId": "e59cace7-c05a-44f1-a709-528a4e6aaea4"
      },
      "source": [
        "df3"
      ],
      "execution_count": null,
      "outputs": [
        {
          "output_type": "execute_result",
          "data": {
            "text/plain": [
              "[[5.7656881570816045],\n",
              " [4.7697627484798435],\n",
              " [3.4697542756795885],\n",
              " [3.090749606490135],\n",
              " [2.964544767141342],\n",
              " [3.5525851130485537],\n",
              " [3.88405641913414],\n",
              " [4.033627659082413],\n",
              " [4.119852596521378],\n",
              " [4.164571100473404],\n",
              " [4.188470697402954],\n",
              " [4.197288542985916],\n",
              " [4.201266795396805],\n",
              " [4.201955622434616],\n",
              " [4.202525961399078],\n",
              " [4.202435714006424],\n",
              " [4.202607613801956],\n",
              " [4.202536398172379],\n",
              " [4.202610683441162],\n",
              " [4.202568936347961],\n",
              " [4.2026027023792265],\n",
              " [4.202579987049103],\n",
              " [4.202595949172974],\n",
              " [4.202585512399674],\n",
              " [4.202593493461609],\n",
              " [4.202587968111038],\n",
              " [4.202591651678086],\n",
              " [4.20258858203888],\n",
              " [4.202590423822403],\n",
              " [4.202589195966721],\n",
              " [4.202589809894562],\n",
              " [4.202589809894562],\n",
              " [4.202589809894562],\n",
              " [4.202589809894562],\n",
              " [4.202589195966721],\n",
              " [4.202589809894562],\n",
              " [4.202589809894562],\n",
              " [4.202589809894562],\n",
              " [4.202589809894562],\n",
              " [4.202589195966721],\n",
              " [4.202589809894562],\n",
              " [4.202589809894562],\n",
              " [4.202589809894562],\n",
              " [4.202589809894562],\n",
              " [4.202589195966721],\n",
              " [4.202589809894562],\n",
              " [4.202589809894562],\n",
              " [4.202589809894562],\n",
              " [4.202589809894562],\n",
              " [4.202589195966721],\n",
              " [4.202589809894562],\n",
              " [4.202589809894562],\n",
              " [4.202589809894562],\n",
              " [4.202589809894562],\n",
              " [4.202589195966721],\n",
              " [4.202589809894562],\n",
              " [4.202589809894562],\n",
              " [4.202589809894562],\n",
              " [4.202589809894562],\n",
              " [4.202589195966721]]"
            ]
          },
          "metadata": {
            "tags": []
          },
          "execution_count": 247
        }
      ]
    },
    {
      "cell_type": "code",
      "metadata": {
        "id": "y1Qioe3_KSQ3",
        "colab": {
          "base_uri": "https://localhost:8080/",
          "height": 1000
        },
        "outputId": "6861ec51-c3d6-45e5-8999-ecaefdd416ef"
      },
      "source": [
        "d=df3\n",
        "d"
      ],
      "execution_count": null,
      "outputs": [
        {
          "output_type": "execute_result",
          "data": {
            "text/plain": [
              "[[-52.70612120628357],\n",
              " [-48.96175146102905],\n",
              " [-46.03156507015228],\n",
              " [-43.181641697883606],\n",
              " [-40.83662390708923],\n",
              " [-39.264320731163025],\n",
              " [-38.179378509521484],\n",
              " [-37.40026354789734],\n",
              " [-36.82362735271454],\n",
              " [-36.39623939990997],\n",
              " [-36.078537702560425],\n",
              " [-35.84072768688202],\n",
              " [-35.661192536354065],\n",
              " [-35.52499532699585],\n",
              " [-35.421446561813354],\n",
              " [-35.34258961677551],\n",
              " [-35.28239965438843],\n",
              " [-35.23639142513275],\n",
              " [-35.20118951797485],\n",
              " [-35.17423212528229],\n",
              " [-35.15358328819275],\n",
              " [-35.13774931430817],\n",
              " [-35.125603675842285],\n",
              " [-35.116286873817444],\n",
              " [-35.10914385318756],\n",
              " [-35.10366141796112],\n",
              " [-35.099451541900635],\n",
              " [-35.096222162246704],\n",
              " [-35.09374797344208],\n",
              " [-35.09184539318085],\n",
              " [-35.09037673473358],\n",
              " [-35.089258551597595],\n",
              " [-35.088399052619934],\n",
              " [-35.08773148059845],\n",
              " [-35.08722245693207],\n",
              " [-35.086838603019714],\n",
              " [-35.08654236793518],\n",
              " [-35.086312890052795],\n",
              " [-35.08613348007202],\n",
              " [-35.08599579334259],\n",
              " [-35.08589148521423],\n",
              " [-35.08581221103668],\n",
              " [-35.0857412815094],\n",
              " [-35.08569538593292],\n",
              " [-35.08566200733185],\n",
              " [-35.08563697338104],\n",
              " [-35.085620284080505],\n",
              " [-35.085599422454834],\n",
              " [-35.0855827331543],\n",
              " [-35.08556604385376],\n",
              " [-35.085570216178894],\n",
              " [-35.08556604385376],\n",
              " [-35.085561871528625],\n",
              " [-35.08555352687836],\n",
              " [-35.08555352687836],\n",
              " [-35.08554935455322],\n",
              " [-35.08554935455322],\n",
              " [-35.08555352687836],\n",
              " [-35.08555352687836],\n",
              " [-35.08555352687836]]"
            ]
          },
          "metadata": {
            "tags": []
          },
          "execution_count": 106
        }
      ]
    },
    {
      "cell_type": "code",
      "metadata": {
        "id": "6vfyXEZkE1Yh"
      },
      "source": [
        "df3 = pd.DataFrame(df3)\n",
        "data = pd.read_csv('try.csv')\n",
        "data['Vidya'] = df3 # changed here\n",
        "data.to_csv('try.csv', index=False, mode= 'w')"
      ],
      "execution_count": null,
      "outputs": []
    }
  ]
}